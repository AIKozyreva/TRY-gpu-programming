{
 "cells": [
  {
   "cell_type": "code",
   "execution_count": 1,
   "id": "1b5fd587",
   "metadata": {},
   "outputs": [
    {
     "name": "stderr",
     "output_type": "stream",
     "text": [
      "C:\\Users\\kosto\\miniconda3\\envs\\work\\lib\\site-packages\\torchvision\\io\\image.py:11: UserWarning: Failed to load image Python extension: Could not find module 'C:\\Users\\kosto\\miniconda3\\envs\\work\\Lib\\site-packages\\torchvision\\image.pyd' (or one of its dependencies). Try using the full path with constructor syntax.\n",
      "  warn(f\"Failed to load image Python extension: {e}\")\n"
     ]
    }
   ],
   "source": [
    "import torch\n",
    "import torchvision\n",
    "import numpy as np\n",
    "import pandas as pd\n",
    "from PIL import Image\n",
    "from tqdm import tqdm\n",
    "import wandb"
   ]
  },
  {
   "cell_type": "code",
   "execution_count": 2,
   "id": "670fbb54",
   "metadata": {},
   "outputs": [],
   "source": [
    "train_dataset = torchvision.datasets.MNIST(\".\", train=True, download=True)\n",
    "test_dataset = torchvision.datasets.MNIST(\".\", train=False, download=True)"
   ]
  },
  {
   "cell_type": "code",
   "execution_count": 3,
   "id": "21de4c5c",
   "metadata": {},
   "outputs": [],
   "source": [
    "def draw_int(image):\n",
    "    display(Image.fromarray(np.array(image)))\n",
    "\n",
    "def draw_float(image):\n",
    "    display(Image.fromarray((np.array(image) * 255).astype(np.uint8)))"
   ]
  },
  {
   "cell_type": "code",
   "execution_count": 4,
   "id": "6ce5459b",
   "metadata": {},
   "outputs": [
    {
     "name": "stdout",
     "output_type": "stream",
     "text": [
      "torch.Size([60000, 28, 28]) torch.Size([60000])\n"
     ]
    },
    {
     "data": {
      "image/png": "[encoded data removed]",
      "text/plain": [
       "<PIL.Image.Image image mode=L size=28x28 at 0x271CDE01880>"
      ]
     },
     "metadata": {},
     "output_type": "display_data"
    },
    {
     "data": {
      "text/plain": [
       "(None, tensor(5))"
      ]
     },
     "execution_count": 4,
     "metadata": {},
     "output_type": "execute_result"
    }
   ],
   "source": [
    "print(train_dataset.data.shape, train_dataset.targets.shape)\n",
    "draw_int(train_dataset.data[0]), train_dataset.targets[0]"
   ]
  },
  {
   "cell_type": "code",
   "execution_count": 5,
   "id": "aaf4b414",
   "metadata": {},
   "outputs": [],
   "source": [
    "NOISE_FACTOR = 0.4\n",
    "\n",
    "def preprocess(array):\n",
    "    array = np.array(array)\n",
    "    array = array.astype(np.float32) / 255.0\n",
    "    return array#.reshape(len(array), 28, 28)\n",
    "\n",
    "def generate_noise(arr):\n",
    "    return np.clip(\n",
    "        arr + NOISE_FACTOR * np.random.normal(0.0, 1.0, size=arr.shape),\n",
    "        0.0, 1.0\n",
    "    )"
   ]
  },
  {
   "cell_type": "code",
   "execution_count": 6,
   "id": "fde90ae6",
   "metadata": {},
   "outputs": [],
   "source": [
    "X_train_clean = preprocess(train_dataset.data)\n",
    "X_train_noise = generate_noise(X_train_clean)\n",
    "y_train = train_dataset.targets"
   ]
  },
  {
   "cell_type": "code",
   "execution_count": 7,
   "id": "59432399",
   "metadata": {},
   "outputs": [],
   "source": [
    "X_test_clean = preprocess(test_dataset.data)\n",
    "X_test_noise = generate_noise(X_test_clean)\n",
    "y_test = test_dataset.targets"
   ]
  },
  {
   "cell_type": "code",
   "execution_count": 8,
   "id": "9b389968",
   "metadata": {},
   "outputs": [
    {
     "data": {
      "image/png": "[encoded data removed]",
      "text/plain": [
       "<PIL.Image.Image image mode=L size=28x28 at 0x271CDE4D670>"
      ]
     },
     "metadata": {},
     "output_type": "display_data"
    },
    {
     "data": {
      "image/png": "[encoded data removed]",
      "text/plain": [
       "<PIL.Image.Image image mode=L size=28x28 at 0x271CDE27E20>"
      ]
     },
     "metadata": {},
     "output_type": "display_data"
    },
    {
     "data": {
      "text/plain": [
       "(None, None)"
      ]
     },
     "execution_count": 8,
     "metadata": {},
     "output_type": "execute_result"
    }
   ],
   "source": [
    "draw_float(X_test_clean[0]), draw_float(X_test_noise[0])"
   ]
  },
  {
   "cell_type": "code",
   "execution_count": 9,
   "id": "b02e06e7",
   "metadata": {},
   "outputs": [],
   "source": [
    "X_train_tensor_clean = torch.tensor(X_train_clean, dtype=torch.float32).cuda().unsqueeze(1)\n",
    "X_train_tensor_noise = torch.tensor(X_train_noise, dtype=torch.float32).cuda().unsqueeze(1)\n",
    "\n",
    "X_test_tensor_clean = torch.tensor(X_test_clean, dtype=torch.float32).cuda().unsqueeze(1)\n",
    "X_test_tensor_noise = torch.tensor(X_test_noise, dtype=torch.float32).cuda().unsqueeze(1)"
   ]
  },
  {
   "cell_type": "code",
   "execution_count": 10,
   "id": "98a4f648",
   "metadata": {},
   "outputs": [],
   "source": [
    "train_set = torch.utils.data.TensorDataset(X_train_tensor_noise, X_train_tensor_clean)\n",
    "test_set = torch.utils.data.TensorDataset(X_test_tensor_noise, X_test_tensor_clean)"
   ]
  },
  {
   "cell_type": "code",
   "execution_count": 11,
   "id": "84305a22",
   "metadata": {},
   "outputs": [],
   "source": [
    "BATCH_SIZE = 32\n",
    "\n",
    "train_loader = torch.utils.data.DataLoader(train_set, batch_size=BATCH_SIZE, shuffle=True)\n",
    "test_loader = torch.utils.data.DataLoader(test_set, batch_size=BATCH_SIZE, shuffle=False)"
   ]
  },
  {
   "cell_type": "code",
   "execution_count": 12,
   "id": "b332631b",
   "metadata": {},
   "outputs": [
    {
     "data": {
      "text/plain": [
       "(1875, 313)"
      ]
     },
     "execution_count": 12,
     "metadata": {},
     "output_type": "execute_result"
    }
   ],
   "source": [
    "len(train_loader), len(test_loader)"
   ]
  },
  {
   "cell_type": "code",
   "execution_count": 13,
   "id": "1891a4df",
   "metadata": {},
   "outputs": [],
   "source": [
    "def AE_model():\n",
    "    return torch.nn.Sequential(\n",
    "        # Encoder\n",
    "        torch.nn.Conv2d(1, 32, (3, 3), padding='same'),\n",
    "        torch.nn.ReLU(),\n",
    "        torch.nn.MaxPool2d(2, 2),\n",
    "        torch.nn.Conv2d(32, 32, (3, 3), padding='same'),\n",
    "        torch.nn.ReLU(),\n",
    "        torch.nn.MaxPool2d(2, 2),\n",
    "        # Decoder\n",
    "        torch.nn.ConvTranspose2d(32, 32, (2, 2), stride=2),\n",
    "        torch.nn.ReLU(),\n",
    "        torch.nn.ConvTranspose2d(32, 32, (2, 2), stride=2),\n",
    "        torch.nn.ReLU(),\n",
    "        torch.nn.Conv2d(32, 1, (3, 3), padding='same'),\n",
    "        torch.nn.Sigmoid(),\n",
    "    )"
   ]
  },
  {
   "cell_type": "code",
   "execution_count": 14,
   "id": "0aa32226",
   "metadata": {},
   "outputs": [
    {
     "data": {
      "text/plain": [
       "Sequential(\n",
       "  (0): Conv2d(1, 32, kernel_size=(3, 3), stride=(1, 1), padding=same)\n",
       "  (1): ReLU()\n",
       "  (2): MaxPool2d(kernel_size=2, stride=2, padding=0, dilation=1, ceil_mode=False)\n",
       "  (3): Conv2d(32, 32, kernel_size=(3, 3), stride=(1, 1), padding=same)\n",
       "  (4): ReLU()\n",
       "  (5): MaxPool2d(kernel_size=2, stride=2, padding=0, dilation=1, ceil_mode=False)\n",
       "  (6): ConvTranspose2d(32, 32, kernel_size=(2, 2), stride=(2, 2))\n",
       "  (7): ReLU()\n",
       "  (8): ConvTranspose2d(32, 32, kernel_size=(2, 2), stride=(2, 2))\n",
       "  (9): ReLU()\n",
       "  (10): Conv2d(32, 1, kernel_size=(3, 3), stride=(1, 1), padding=same)\n",
       "  (11): Sigmoid()\n",
       ")"
      ]
     },
     "execution_count": 14,
     "metadata": {},
     "output_type": "execute_result"
    }
   ],
   "source": [
    "model = AE_model().cuda()\n",
    "model"
   ]
  },
  {
   "cell_type": "code",
   "execution_count": 15,
   "id": "2a45b868",
   "metadata": {},
   "outputs": [],
   "source": [
    "optim = torch.optim.Adam(model.parameters())\n",
    "loss_f = torch.nn.MSELoss()"
   ]
  },
  {
   "cell_type": "code",
   "execution_count": 16,
   "id": "85138d1a",
   "metadata": {},
   "outputs": [
    {
     "name": "stderr",
     "output_type": "stream",
     "text": [
      "\u001b[34m\u001b[1mwandb\u001b[0m: Currently logged in as: \u001b[33mdean1t\u001b[0m (use `wandb login --relogin` to force relogin)\n"
     ]
    },
    {
     "data": {
      "text/html": [
       "wandb version 0.12.15 is available!  To upgrade, please run:\n",
       " $ pip install wandb --upgrade"
      ],
      "text/plain": [
       "<IPython.core.display.HTML object>"
      ]
     },
     "metadata": {},
     "output_type": "display_data"
    },
    {
     "data": {
      "text/html": [
       "Tracking run with wandb version 0.12.14"
      ],
      "text/plain": [
       "<IPython.core.display.HTML object>"
      ]
     },
     "metadata": {},
     "output_type": "display_data"
    },
    {
     "data": {
      "text/html": [
       "Run data is saved locally in <code>C:\\Users\\kosto\\Desktop\\work\\gpu_programming\\02\\wandb\\run-20220424_204324-1u088d4i</code>"
      ],
      "text/plain": [
       "<IPython.core.display.HTML object>"
      ]
     },
     "metadata": {},
     "output_type": "display_data"
    },
    {
     "data": {
      "text/html": [
       "Syncing run <strong><a href=\"https://wandb.ai/dean1t/mnist-denoise/runs/1u088d4i\" target=\"_blank\">worldly-oath-6</a></strong> to <a href=\"https://wandb.ai/dean1t/mnist-denoise\" target=\"_blank\">Weights & Biases</a> (<a href=\"https://wandb.me/run\" target=\"_blank\">docs</a>)<br/>"
      ],
      "text/plain": [
       "<IPython.core.display.HTML object>"
      ]
     },
     "metadata": {},
     "output_type": "display_data"
    },
    {
     "data": {
      "text/html": [
       "<button onClick=\"this.nextSibling.style.display='block';this.style.display='none';\">Display W&B run</button><iframe src=\"https://wandb.ai/dean1t/mnist-denoise/runs/1u088d4i?jupyter=true\" style=\"border:none;width:100%;height:420px;display:none;\"></iframe>"
      ],
      "text/plain": [
       "<wandb.sdk.wandb_run.Run at 0x2121f9e0dc0>"
      ]
     },
     "execution_count": 16,
     "metadata": {},
     "output_type": "execute_result"
    }
   ],
   "source": [
    "wandb.init(project=\"mnist-denoise\", entity=\"dean1t\")"
   ]
  },
  {
   "cell_type": "code",
   "execution_count": 16,
   "id": "ae0b7bf6",
   "metadata": {},
   "outputs": [],
   "source": [
    "def train(model, dataloader):\n",
    "    model.train()\n",
    "    total_loss = 0\n",
    "    for cur_X, cur_Y in tqdm(dataloader, desc='Train'):\n",
    "        optim.zero_grad()\n",
    "        output = model(cur_X)\n",
    "        loss = loss_f(cur_Y, output)\n",
    "        loss.backward()\n",
    "        optim.step()\n",
    "        l = loss.detach().cpu()\n",
    "        wandb.log({\"train_loss\": l})\n",
    "        total_loss += l\n",
    "    print('Train loss', total_loss / len(dataloader), flush=True)\n",
    "    \n",
    "def eval_model(model, dataloader):\n",
    "    model.eval()\n",
    "    total_loss = 0\n",
    "    for cur_X, cur_Y in tqdm(dataloader, desc='Eval'):\n",
    "        output = model(cur_X)\n",
    "        loss = loss_f(cur_Y, output)\n",
    "        l = loss.detach().cpu()\n",
    "        wandb.log({\"eval_loss\": l})\n",
    "        total_loss += l\n",
    "    print('eval loss', total_loss / len(dataloader), flush=True)"
   ]
  },
  {
   "cell_type": "code",
   "execution_count": 18,
   "id": "c10a2652",
   "metadata": {
    "scrolled": true
   },
   "outputs": [
    {
     "name": "stdout",
     "output_type": "stream",
     "text": [
      "Epoch 0\n"
     ]
    },
    {
     "name": "stderr",
     "output_type": "stream",
     "text": [
      "Train: 100%|██████████████████████████████████████████████████████████████████████| 1875/1875 [00:17<00:00, 109.86it/s]\n"
     ]
    },
    {
     "name": "stdout",
     "output_type": "stream",
     "text": [
      "Train loss tensor(0.1010)\n"
     ]
    },
    {
     "name": "stderr",
     "output_type": "stream",
     "text": [
      "Eval: 100%|█████████████████████████████████████████████████████████████████████████| 313/313 [00:00<00:00, 326.36it/s]"
     ]
    },
    {
     "name": "stdout",
     "output_type": "stream",
     "text": [
      "eval loss tensor(0.0157)\n",
      "Epoch 1\n"
     ]
    },
    {
     "name": "stderr",
     "output_type": "stream",
     "text": [
      "\n",
      "Train: 100%|██████████████████████████████████████████████████████████████████████| 1875/1875 [00:13<00:00, 135.44it/s]"
     ]
    },
    {
     "name": "stdout",
     "output_type": "stream",
     "text": [
      "Train loss tensor(0.0124)\n"
     ]
    },
    {
     "name": "stderr",
     "output_type": "stream",
     "text": [
      "\n",
      "Eval: 100%|█████████████████████████████████████████████████████████████████████████| 313/313 [00:00<00:00, 314.36it/s]"
     ]
    },
    {
     "name": "stdout",
     "output_type": "stream",
     "text": [
      "eval loss tensor(0.0109)\n",
      "Epoch 2\n"
     ]
    },
    {
     "name": "stderr",
     "output_type": "stream",
     "text": [
      "\n",
      "Train: 100%|██████████████████████████████████████████████████████████████████████| 1875/1875 [00:13<00:00, 135.48it/s]"
     ]
    },
    {
     "name": "stdout",
     "output_type": "stream",
     "text": [
      "Train loss tensor(0.0104)\n"
     ]
    },
    {
     "name": "stderr",
     "output_type": "stream",
     "text": [
      "\n",
      "Eval: 100%|█████████████████████████████████████████████████████████████████████████| 313/313 [00:01<00:00, 261.03it/s]"
     ]
    },
    {
     "name": "stdout",
     "output_type": "stream",
     "text": [
      "eval loss tensor(0.0098)\n",
      "Epoch 3\n"
     ]
    },
    {
     "name": "stderr",
     "output_type": "stream",
     "text": [
      "\n",
      "Train: 100%|██████████████████████████████████████████████████████████████████████| 1875/1875 [00:17<00:00, 108.83it/s]"
     ]
    },
    {
     "name": "stdout",
     "output_type": "stream",
     "text": [
      "Train loss tensor(0.0097)\n"
     ]
    },
    {
     "name": "stderr",
     "output_type": "stream",
     "text": [
      "\n",
      "Eval: 100%|█████████████████████████████████████████████████████████████████████████| 313/313 [00:01<00:00, 274.70it/s]"
     ]
    },
    {
     "name": "stdout",
     "output_type": "stream",
     "text": [
      "eval loss tensor(0.0093)\n",
      "Epoch 4\n"
     ]
    },
    {
     "name": "stderr",
     "output_type": "stream",
     "text": [
      "\n",
      "Train: 100%|██████████████████████████████████████████████████████████████████████| 1875/1875 [00:17<00:00, 104.82it/s]"
     ]
    },
    {
     "name": "stdout",
     "output_type": "stream",
     "text": [
      "Train loss tensor(0.0093)\n"
     ]
    },
    {
     "name": "stderr",
     "output_type": "stream",
     "text": [
      "\n",
      "Eval: 100%|█████████████████████████████████████████████████████████████████████████| 313/313 [00:01<00:00, 254.31it/s]"
     ]
    },
    {
     "name": "stdout",
     "output_type": "stream",
     "text": [
      "eval loss tensor(0.0090)\n",
      "Epoch 5\n"
     ]
    },
    {
     "name": "stderr",
     "output_type": "stream",
     "text": [
      "\n",
      "Train: 100%|██████████████████████████████████████████████████████████████████████| 1875/1875 [00:16<00:00, 111.78it/s]"
     ]
    },
    {
     "name": "stdout",
     "output_type": "stream",
     "text": [
      "Train loss tensor(0.0091)\n"
     ]
    },
    {
     "name": "stderr",
     "output_type": "stream",
     "text": [
      "\n",
      "Eval: 100%|█████████████████████████████████████████████████████████████████████████| 313/313 [00:01<00:00, 249.66it/s]"
     ]
    },
    {
     "name": "stdout",
     "output_type": "stream",
     "text": [
      "eval loss tensor(0.0088)\n",
      "Epoch 6\n"
     ]
    },
    {
     "name": "stderr",
     "output_type": "stream",
     "text": [
      "\n",
      "Train: 100%|██████████████████████████████████████████████████████████████████████| 1875/1875 [00:17<00:00, 104.96it/s]"
     ]
    },
    {
     "name": "stdout",
     "output_type": "stream",
     "text": [
      "Train loss tensor(0.0089)\n"
     ]
    },
    {
     "name": "stderr",
     "output_type": "stream",
     "text": [
      "\n",
      "Eval: 100%|█████████████████████████████████████████████████████████████████████████| 313/313 [00:01<00:00, 254.92it/s]"
     ]
    },
    {
     "name": "stdout",
     "output_type": "stream",
     "text": [
      "eval loss tensor(0.0087)\n",
      "Epoch 7\n"
     ]
    },
    {
     "name": "stderr",
     "output_type": "stream",
     "text": [
      "\n",
      "Train: 100%|██████████████████████████████████████████████████████████████████████| 1875/1875 [00:17<00:00, 109.64it/s]"
     ]
    },
    {
     "name": "stdout",
     "output_type": "stream",
     "text": [
      "Train loss tensor(0.0088)\n"
     ]
    },
    {
     "name": "stderr",
     "output_type": "stream",
     "text": [
      "\n",
      "Eval: 100%|█████████████████████████████████████████████████████████████████████████| 313/313 [00:01<00:00, 251.13it/s]"
     ]
    },
    {
     "name": "stdout",
     "output_type": "stream",
     "text": [
      "eval loss tensor(0.0086)\n",
      "Epoch 8\n"
     ]
    },
    {
     "name": "stderr",
     "output_type": "stream",
     "text": [
      "\n",
      "Train: 100%|██████████████████████████████████████████████████████████████████████| 1875/1875 [00:16<00:00, 111.26it/s]"
     ]
    },
    {
     "name": "stdout",
     "output_type": "stream",
     "text": [
      "Train loss tensor(0.0087)\n"
     ]
    },
    {
     "name": "stderr",
     "output_type": "stream",
     "text": [
      "\n",
      "Eval: 100%|█████████████████████████████████████████████████████████████████████████| 313/313 [00:01<00:00, 260.82it/s]"
     ]
    },
    {
     "name": "stdout",
     "output_type": "stream",
     "text": [
      "eval loss tensor(0.0085)\n",
      "Epoch 9\n"
     ]
    },
    {
     "name": "stderr",
     "output_type": "stream",
     "text": [
      "\n",
      "Train: 100%|██████████████████████████████████████████████████████████████████████| 1875/1875 [00:16<00:00, 111.45it/s]"
     ]
    },
    {
     "name": "stdout",
     "output_type": "stream",
     "text": [
      "Train loss tensor(0.0086)\n"
     ]
    },
    {
     "name": "stderr",
     "output_type": "stream",
     "text": [
      "\n",
      "Eval: 100%|█████████████████████████████████████████████████████████████████████████| 313/313 [00:01<00:00, 265.30it/s]"
     ]
    },
    {
     "name": "stdout",
     "output_type": "stream",
     "text": [
      "eval loss tensor(0.0085)\n",
      "Epoch 10\n"
     ]
    },
    {
     "name": "stderr",
     "output_type": "stream",
     "text": [
      "\n",
      "Train: 100%|██████████████████████████████████████████████████████████████████████| 1875/1875 [00:15<00:00, 121.64it/s]"
     ]
    },
    {
     "name": "stdout",
     "output_type": "stream",
     "text": [
      "Train loss tensor(0.0085)\n"
     ]
    },
    {
     "name": "stderr",
     "output_type": "stream",
     "text": [
      "\n",
      "Eval: 100%|█████████████████████████████████████████████████████████████████████████| 313/313 [00:01<00:00, 243.30it/s]"
     ]
    },
    {
     "name": "stdout",
     "output_type": "stream",
     "text": [
      "eval loss tensor(0.0084)\n",
      "Epoch 11\n"
     ]
    },
    {
     "name": "stderr",
     "output_type": "stream",
     "text": [
      "\n",
      "Train: 100%|██████████████████████████████████████████████████████████████████████| 1875/1875 [00:17<00:00, 107.86it/s]"
     ]
    },
    {
     "name": "stdout",
     "output_type": "stream",
     "text": [
      "Train loss tensor(0.0085)\n"
     ]
    },
    {
     "name": "stderr",
     "output_type": "stream",
     "text": [
      "\n",
      "Eval: 100%|█████████████████████████████████████████████████████████████████████████| 313/313 [00:01<00:00, 260.45it/s]"
     ]
    },
    {
     "name": "stdout",
     "output_type": "stream",
     "text": [
      "eval loss tensor(0.0084)\n",
      "Epoch 12\n"
     ]
    },
    {
     "name": "stderr",
     "output_type": "stream",
     "text": [
      "\n",
      "Train: 100%|██████████████████████████████████████████████████████████████████████| 1875/1875 [00:15<00:00, 122.39it/s]"
     ]
    },
    {
     "name": "stdout",
     "output_type": "stream",
     "text": [
      "Train loss tensor(0.0084)\n"
     ]
    },
    {
     "name": "stderr",
     "output_type": "stream",
     "text": [
      "\n",
      "Eval: 100%|█████████████████████████████████████████████████████████████████████████| 313/313 [00:01<00:00, 307.75it/s]"
     ]
    },
    {
     "name": "stdout",
     "output_type": "stream",
     "text": [
      "eval loss tensor(0.0084)\n",
      "Epoch 13\n"
     ]
    },
    {
     "name": "stderr",
     "output_type": "stream",
     "text": [
      "\n",
      "Train: 100%|██████████████████████████████████████████████████████████████████████| 1875/1875 [00:16<00:00, 111.70it/s]"
     ]
    },
    {
     "name": "stdout",
     "output_type": "stream",
     "text": [
      "Train loss tensor(0.0084)\n"
     ]
    },
    {
     "name": "stderr",
     "output_type": "stream",
     "text": [
      "\n",
      "Eval: 100%|█████████████████████████████████████████████████████████████████████████| 313/313 [00:01<00:00, 266.06it/s]"
     ]
    },
    {
     "name": "stdout",
     "output_type": "stream",
     "text": [
      "eval loss tensor(0.0083)\n",
      "Epoch 14\n"
     ]
    },
    {
     "name": "stderr",
     "output_type": "stream",
     "text": [
      "\n",
      "Train: 100%|██████████████████████████████████████████████████████████████████████| 1875/1875 [00:16<00:00, 114.98it/s]"
     ]
    },
    {
     "name": "stdout",
     "output_type": "stream",
     "text": [
      "Train loss tensor(0.0083)\n"
     ]
    },
    {
     "name": "stderr",
     "output_type": "stream",
     "text": [
      "\n",
      "Eval: 100%|█████████████████████████████████████████████████████████████████████████| 313/313 [00:01<00:00, 239.43it/s]"
     ]
    },
    {
     "name": "stdout",
     "output_type": "stream",
     "text": [
      "eval loss tensor(0.0082)\n"
     ]
    },
    {
     "name": "stderr",
     "output_type": "stream",
     "text": [
      "\n"
     ]
    }
   ],
   "source": [
    "n_epoch = 15\n",
    "for i in range(n_epoch):\n",
    "    print(\"Epoch\", i, flush=True)\n",
    "    train(model, train_loader)\n",
    "    eval_model(model, test_loader)"
   ]
  },
  {
   "cell_type": "code",
   "execution_count": null,
   "id": "b7c274b2",
   "metadata": {},
   "outputs": [],
   "source": []
  },
  {
   "cell_type": "code",
   "execution_count": 106,
   "id": "9e1b254e",
   "metadata": {},
   "outputs": [
    {
     "data": {
      "image/png": "[encoded data removed]",
      "text/plain": [
       "<PIL.Image.Image image mode=L size=28x28 at 0x212E9054BE0>"
      ]
     },
     "metadata": {},
     "output_type": "display_data"
    },
    {
     "data": {
      "image/png": "[encoded data removed]",
      "text/plain": [
       "<PIL.Image.Image image mode=L size=28x28 at 0x212E7F00940>"
      ]
     },
     "metadata": {},
     "output_type": "display_data"
    },
    {
     "data": {
      "image/png": "[encoded data removed]",
      "text/plain": [
       "<PIL.Image.Image image mode=L size=28x28 at 0x212E6714070>"
      ]
     },
     "metadata": {},
     "output_type": "display_data"
    }
   ],
   "source": [
    "i = np.random.randint(len(X_test_clean))\n",
    "inp = X_test_tensor_noise[i]\n",
    "gt = X_test_tensor_clean[i]\n",
    "res = model(inp.unsqueeze(0))\n",
    "draw_float(inp.detach().cpu().squeeze())\n",
    "draw_float(gt.detach().cpu().squeeze())\n",
    "draw_float(res.detach().cpu().squeeze())\n"
   ]
  },
  {
   "cell_type": "code",
   "execution_count": 50,
   "id": "c6f90eff",
   "metadata": {},
   "outputs": [
    {
     "name": "stdout",
     "output_type": "stream",
     "text": [
      "\n"
     ]
    },
    {
     "data": {
      "text/html": [
       "Waiting for W&B process to finish... <strong style=\"color:green\">(success).</strong>"
      ],
      "text/plain": [
       "<IPython.core.display.HTML object>"
      ]
     },
     "metadata": {},
     "output_type": "display_data"
    },
    {
     "data": {
      "application/vnd.jupyter.widget-view+json": {
       "model_id": "",
       "version_major": 2,
       "version_minor": 0
      },
      "text/plain": [
       "VBox(children=(Label(value='0.001 MB of 0.001 MB uploaded (0.000 MB deduped)\\r'), FloatProgress(value=1.0, max…"
      ]
     },
     "metadata": {},
     "output_type": "display_data"
    },
    {
     "data": {
      "text/html": [
       "<style>\n",
       "    table.wandb td:nth-child(1) { padding: 0 10px; text-align: right }\n",
       "    .wandb-row { display: flex; flex-direction: row; flex-wrap: wrap; width: 100% }\n",
       "    .wandb-col { display: flex; flex-direction: column; flex-basis: 100%; flex: 1; padding: 10px; }\n",
       "    </style>\n",
       "<div class=\"wandb-row\"><div class=\"wandb-col\"><h3>Run history:</h3><br/><table class=\"wandb\"><tr><td>eval_loss</td><td>█▇▇▇▅▅▅▅▄▃▅▆▆▅▃▅▁▄▃▅▂▃▃▂▃▅▅▂▂▄▃▄▃▂▁▂▃▅▄▃</td></tr><tr><td>train_loss</td><td>█▆▅▄▅▄▄▃▂▃▃▄▄▃▃▄▃▃▃▄▃▃▃▃▃▂▃▃▂▃▃▃▃▁▄▂▂▃▃▂</td></tr></table><br/></div><div class=\"wandb-col\"><h3>Run summary:</h3><br/><table class=\"wandb\"><tr><td>eval_loss</td><td>0.00766</td></tr><tr><td>train_loss</td><td>0.00862</td></tr></table><br/></div></div>"
      ],
      "text/plain": [
       "<IPython.core.display.HTML object>"
      ]
     },
     "metadata": {},
     "output_type": "display_data"
    },
    {
     "data": {
      "text/html": [
       "Synced <strong style=\"color:#cdcd00\">fancy-mountain-3</strong>: <a href=\"https://wandb.ai/dean1t/mnist-denoise/runs/2ioeiue3\" target=\"_blank\">https://wandb.ai/dean1t/mnist-denoise/runs/2ioeiue3</a><br/>Synced 5 W&B file(s), 0 media file(s), 0 artifact file(s) and 0 other file(s)"
      ],
      "text/plain": [
       "<IPython.core.display.HTML object>"
      ]
     },
     "metadata": {},
     "output_type": "display_data"
    },
    {
     "data": {
      "text/html": [
       "Find logs at: <code>.\\wandb\\run-20220424_134632-2ioeiue3\\logs</code>"
      ],
      "text/plain": [
       "<IPython.core.display.HTML object>"
      ]
     },
     "metadata": {},
     "output_type": "display_data"
    }
   ],
   "source": [
    "wandb.finish()"
   ]
  },
  {
   "cell_type": "code",
   "execution_count": 107,
   "id": "95d9401e",
   "metadata": {},
   "outputs": [],
   "source": [
    "torch.save(model.state_dict(), 'weights.pth')"
   ]
  },
  {
   "cell_type": "code",
   "execution_count": 108,
   "id": "824e2e41",
   "metadata": {},
   "outputs": [
    {
     "name": "stdout",
     "output_type": "stream",
     "text": [
      "Model's state_dict:\n",
      "0.weight \t torch.Size([32, 1, 3, 3])\n",
      "0.bias \t torch.Size([32])\n",
      "3.weight \t torch.Size([32, 32, 3, 3])\n",
      "3.bias \t torch.Size([32])\n",
      "6.weight \t torch.Size([32, 32, 2, 2])\n",
      "6.bias \t torch.Size([32])\n",
      "8.weight \t torch.Size([32, 32, 2, 2])\n",
      "8.bias \t torch.Size([32])\n",
      "10.weight \t torch.Size([1, 32, 3, 3])\n",
      "10.bias \t torch.Size([1])\n"
     ]
    }
   ],
   "source": [
    "# Print model's state_dict\n",
    "print(\"Model's state_dict:\")\n",
    "for param_tensor in model.state_dict():\n",
    "    print(param_tensor, \"\\t\", model.state_dict()[param_tensor].size())"
   ]
  },
  {
   "cell_type": "code",
   "execution_count": 355,
   "id": "5cd05a21",
   "metadata": {},
   "outputs": [
    {
     "name": "stdout",
     "output_type": "stream",
     "text": [
      "here\n",
      "here\n"
     ]
    }
   ],
   "source": [
    "import struct\n",
    "\n",
    "for param_tensor in model.state_dict():\n",
    "    arr = model.state_dict()[param_tensor].detach().cpu().numpy()\n",
    "    if param_tensor == '6.weight' or param_tensor == '8.weight':\n",
    "        # need to transpose because transposed conv behaves differently\n",
    "        arr = arr.transpose(1,0,2,3)\n",
    "    l = list(arr.ravel())\n",
    "    with open(f'model/{param_tensor}.bin', 'wb') as f:\n",
    "        # just save binary files\n",
    "        pack = struct.pack(f'{len(l)}f', *[float(cur) for cur in l])\n",
    "        f.write(pack)\n"
   ]
  },
  {
   "cell_type": "code",
   "execution_count": null,
   "id": "c46282c9",
   "metadata": {},
   "outputs": [],
   "source": []
  }
 ],
 "metadata": {
  "kernelspec": {
   "display_name": "Python 3",
   "language": "python",
   "name": "python3"
  },
  "language_info": {
   "codemirror_mode": {
    "name": "ipython",
    "version": 3
   },
   "file_extension": ".py",
   "mimetype": "text/x-python",
   "name": "python",
   "nbconvert_exporter": "python",
   "pygments_lexer": "ipython3",
   "version": "3.9.5"
  }
 },
 "nbformat": 4,
 "nbformat_minor": 5
}
